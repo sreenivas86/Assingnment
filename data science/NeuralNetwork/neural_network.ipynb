{
 "cells": [
  {
   "cell_type": "code",
   "execution_count": 65,
   "metadata": {},
   "outputs": [],
   "source": [
    "# dataset\n",
    "# A\n",
    "a=[0,0,1,1,0,0,\n",
    "   0,1,0,0,1,0,\n",
    "   1,1,1,1,1,1,\n",
    "   1,0,0,0,0,1,\n",
    "   1,0,0,0,0,1]\n",
    "# B\n",
    "b=[0,1,1,1,1,0,\n",
    "   0,1,0,0,1,0,\n",
    "   0,1,1,1,1,0,\n",
    "   0,1,0,0,1,0,\n",
    "   0,1,1,1,1,0]\n",
    "\n",
    "# C\n",
    "c=[0,1,1,1,1,0,\n",
    "   0,1,0,0,0,0,\n",
    "   0,1,0,0,0,0,\n",
    "   0,1,0,0,0,0,\n",
    "   0,1,1,1,1,0]\n"
   ]
  },
  {
   "cell_type": "code",
   "execution_count": 66,
   "metadata": {},
   "outputs": [],
   "source": [
    "#creating labels\n",
    "y=[[1,0,0],\n",
    "   [0,1,0],\n",
    "   [0,0,1]\n",
    "   ]"
   ]
  },
  {
   "cell_type": "code",
   "execution_count": 67,
   "metadata": {},
   "outputs": [],
   "source": [
    "#importing required libraries\n",
    "import numpy as np\n",
    "import matplotlib.pyplot as plt"
   ]
  },
  {
   "cell_type": "markdown",
   "metadata": {},
   "source": [
    "Visulizet the data\n"
   ]
  },
  {
   "cell_type": "code",
   "execution_count": 68,
   "metadata": {},
   "outputs": [
    {
     "data": {
      "image/png": "[encoded data removed]",
      "text/plain": [
       "<Figure size 640x480 with 1 Axes>"
      ]
     },
     "metadata": {},
     "output_type": "display_data"
    }
   ],
   "source": [
    "plt.imshow(np.array(a).reshape(5,6))\n",
    "plt.show()"
   ]
  },
  {
   "cell_type": "code",
   "execution_count": 69,
   "metadata": {},
   "outputs": [
    {
     "data": {
      "image/png": "[encoded data removed]",
      "text/plain": [
       "<Figure size 640x480 with 1 Axes>"
      ]
     },
     "metadata": {},
     "output_type": "display_data"
    }
   ],
   "source": [
    "plt.imshow(np.array(b).reshape(5,6))\n",
    "plt.show()"
   ]
  },
  {
   "cell_type": "code",
   "execution_count": 70,
   "metadata": {},
   "outputs": [
    {
     "data": {
      "image/png": "[encoded data removed]",
      "text/plain": [
       "<Figure size 640x480 with 1 Axes>"
      ]
     },
     "metadata": {},
     "output_type": "display_data"
    }
   ],
   "source": [
    "plt.imshow(np.array(c).reshape(5,6))\n",
    "plt.show()"
   ]
  },
  {
   "cell_type": "code",
   "execution_count": 71,
   "metadata": {},
   "outputs": [
    {
     "name": "stdout",
     "output_type": "stream",
     "text": [
      "[array([[0, 0, 1, 1, 0, 0, 0, 1, 0, 0, 1, 0, 1, 1, 1, 1, 1, 1, 1, 0, 0, 0,\n",
      "        0, 1, 1, 0, 0, 0, 0, 1]]), array([[0, 1, 1, 1, 1, 0, 0, 1, 0, 0, 1, 0, 0, 1, 1, 1, 1, 0, 0, 1, 0, 0,\n",
      "        1, 0, 0, 1, 1, 1, 1, 0]]), array([[0, 1, 1, 1, 1, 0, 0, 1, 0, 0, 0, 0, 0, 1, 0, 0, 0, 0, 0, 1, 0, 0,\n",
      "        0, 0, 0, 1, 1, 1, 1, 0]])] \n",
      "\n",
      " [[1 0 0]\n",
      " [0 1 0]\n",
      " [0 0 1]]\n"
     ]
    }
   ],
   "source": [
    "#converting labels and data into nupy arrays\n",
    "x=[np.array(a).reshape(1,30),np.array(b).reshape(1,30),np.array(c).reshape(1,30)]\n",
    "y=np.array(y)\n",
    "print(x,\"\\n\\n\",y)"
   ]
  },
  {
   "cell_type": "code",
   "execution_count": 72,
   "metadata": {},
   "outputs": [],
   "source": [
    "#activation function\n",
    "def sigmoid(x):\n",
    "    return (1/(1+np.exp(-x)))"
   ]
  },
  {
   "cell_type": "code",
   "execution_count": 73,
   "metadata": {},
   "outputs": [],
   "source": [
    "#create feed forward NN\n",
    "def f_forward(x,w1,w2):\n",
    "    z1=x.dot(w1)\n",
    "    a1=sigmoid(z1)\n",
    "    #outer layer\n",
    "    z2=a1.dot(w2)\n",
    "    a2=sigmoid(z2)\n",
    "    return a2"
   ]
  },
  {
   "cell_type": "code",
   "execution_count": 74,
   "metadata": {},
   "outputs": [],
   "source": [
    "# initilize Weights\n",
    "def generate_wt(x,y):\n",
    "    l=[]\n",
    "    for i in range(x*y):\n",
    "        l.append(np.random.rand())\n",
    "\n",
    "    return np.array(l).reshape(x,y)"
   ]
  },
  {
   "cell_type": "code",
   "execution_count": 75,
   "metadata": {},
   "outputs": [],
   "source": [
    "# Loss function Mean square Error\n",
    "def loss(out,y):\n",
    "    s=np.square(out-y)\n",
    "    s=np.sum(s)/len(y)\n",
    "    return s\n",
    "    "
   ]
  },
  {
   "cell_type": "code",
   "execution_count": 76,
   "metadata": {},
   "outputs": [],
   "source": [
    "# Back propagation\n",
    "def back_prop(x,y,w1,w2,alpha):\n",
    "    #hidden\n",
    "    z1=x.dot(w1)\n",
    "    a1=sigmoid(z1)\n",
    "    z2=a1.dot(w2)\n",
    "    a2=sigmoid(z2)\n",
    "    d2=a2-y\n",
    "    d1=np.multiply((w2.dot((d2.transpose()))).transpose(),np.multiply(a1,1-a1))\n",
    "    # gradient\n",
    "    w1_adj=x.transpose().dot(d1)\n",
    "    w2_adj=a1.transpose().dot(d2)\n",
    "    w1=w1-(alpha*w1_adj)\n",
    "    w2=w2-(alpha*w2_adj)\n",
    "    \n",
    "    return w1,w2\n",
    "    "
   ]
  },
  {
   "cell_type": "code",
   "execution_count": 77,
   "metadata": {},
   "outputs": [],
   "source": [
    "#Train function\n",
    "def train(X,Y,w1,w2,alpha=0.01,ephocs=10):\n",
    "    acc=[]\n",
    "    los=[]\n",
    "    for j in range(ephocs):\n",
    "        l=[]\n",
    "        for i in range(len(x)):\n",
    "            out= f_forward(X[i],w1,w2)\n",
    "            l.append(loss(out,Y[i]))\n",
    "            w1,w2=back_prop(X[i],Y[i],w1,w2,alpha)\n",
    "        print(\"Ephocs\",j+1,' acc ',(1-sum(l)/len(x)))\n",
    "        acc.append((1-(sum(l)/len(x))))\n",
    "        los.append(sum(l)/len(x))\n",
    "    return acc,los,w1,w2"
   ]
  },
  {
   "cell_type": "code",
   "execution_count": 78,
   "metadata": {},
   "outputs": [],
   "source": [
    "def predict(x,w1,w2):\n",
    "    out=f_forward(x,w1,w2)\n",
    "    maxm=0\n",
    "    k=0\n",
    "    for i in range(len(out[0])):\n",
    "        if (maxm<out[0][i]):\n",
    "            maxm=out[0][i]\n",
    "            k=i\n",
    "    if k==0:\n",
    "        print(\" Image is of letter A \")\n",
    "    elif k==1:\n",
    "        print(' Image is of letter B')\n",
    "    else:\n",
    "        print(' Image is of letter C')\n",
    "    plt.imshow(x.reshape(5,6))\n",
    "    plt.show()\n",
    "    "
   ]
  },
  {
   "cell_type": "code",
   "execution_count": 79,
   "metadata": {},
   "outputs": [
    {
     "name": "stdout",
     "output_type": "stream",
     "text": [
      "[[5.56548129e-01 5.20332128e-01 1.19303051e-01 5.13400700e-01\n",
      "  3.40620694e-01]\n",
      " [8.53520691e-01 1.69304056e-01 4.45842943e-01 1.20347263e-01\n",
      "  9.31965800e-01]\n",
      " [2.53897982e-01 3.59663349e-01 7.96005562e-02 9.69314029e-01\n",
      "  6.08181316e-01]\n",
      " [6.11309041e-01 3.84229707e-01 8.10432942e-01 1.55182578e-02\n",
      "  6.57290211e-01]\n",
      " [4.22283026e-01 4.21356370e-01 7.95057349e-01 7.05143351e-01\n",
      "  5.08984270e-01]\n",
      " [6.64406005e-01 3.49381811e-02 1.66418522e-01 3.09666545e-01\n",
      "  4.62846591e-01]\n",
      " [2.63508557e-01 3.80141261e-01 6.34965019e-01 5.94512871e-01\n",
      "  9.70321196e-01]\n",
      " [4.99159438e-01 9.59269044e-01 7.78089955e-01 9.12255284e-01\n",
      "  8.91154151e-01]\n",
      " [8.51635999e-01 3.72979594e-01 5.95486784e-01 1.07074506e-02\n",
      "  3.22582673e-01]\n",
      " [9.66141413e-01 3.54276193e-01 9.85031615e-01 5.92507829e-01\n",
      "  9.34817771e-01]\n",
      " [6.30889624e-01 7.74560117e-01 2.17069158e-01 5.71788358e-01\n",
      "  8.64074931e-01]\n",
      " [2.28977930e-01 1.12236653e-01 7.02437182e-02 2.99409855e-01\n",
      "  2.08026143e-01]\n",
      " [6.81227001e-01 3.77717977e-01 3.89075016e-01 4.45852968e-01\n",
      "  9.45971059e-01]\n",
      " [6.19939237e-04 9.54142740e-01 5.23230035e-01 4.86063169e-02\n",
      "  9.02366725e-01]\n",
      " [7.93411976e-01 8.75901436e-01 5.30067118e-01 7.63960457e-01\n",
      "  1.65920763e-01]\n",
      " [5.55247686e-01 8.38394447e-01 3.29867188e-02 1.18243902e-01\n",
      "  8.74357765e-01]\n",
      " [5.43288522e-01 6.54044467e-01 6.17224499e-01 6.35723810e-01\n",
      "  1.70918547e-01]\n",
      " [4.74867300e-01 8.69529465e-01 1.40170000e-02 1.36247186e-02\n",
      "  6.87228044e-01]\n",
      " [5.00229441e-01 5.66701004e-01 1.34633886e-01 2.52206609e-01\n",
      "  4.16745394e-01]\n",
      " [7.03121753e-01 6.94530950e-01 2.12965428e-01 4.40094319e-01\n",
      "  5.04180869e-01]\n",
      " [9.90360264e-01 1.84386003e-01 3.83327782e-01 9.63500749e-02\n",
      "  2.31932846e-01]\n",
      " [6.94865409e-01 2.87181187e-01 1.35757790e-01 7.30584591e-01\n",
      "  2.67336580e-01]\n",
      " [2.18931430e-01 4.32354862e-01 1.08400879e-01 7.26005493e-01\n",
      "  8.98184627e-02]\n",
      " [7.09298137e-01 5.29211096e-02 9.79947422e-01 1.23168604e-01\n",
      "  7.34933752e-01]\n",
      " [5.92636066e-01 9.53017856e-01 6.91568219e-01 1.99819334e-01\n",
      "  1.05901581e-01]\n",
      " [5.54972994e-01 9.94454967e-01 9.06327254e-01 4.27695650e-01\n",
      "  6.63840220e-01]\n",
      " [2.97906702e-01 3.78122336e-01 8.54949702e-01 9.60438336e-01\n",
      "  9.41208313e-01]\n",
      " [4.60133209e-01 5.10002966e-01 8.17403708e-01 1.77268757e-01\n",
      "  2.46560905e-02]\n",
      " [5.05768924e-01 5.31285685e-01 2.63654747e-01 6.27220886e-01\n",
      "  6.94628543e-01]\n",
      " [3.83640679e-01 3.28060434e-01 8.48495427e-01 2.01918013e-01\n",
      "  6.09082063e-01]] \n",
      "\n",
      " [[0.80371628 0.32238375 0.11594652]\n",
      " [0.4818466  0.00974265 0.95902231]\n",
      " [0.83266132 0.0313405  0.70258614]\n",
      " [0.09046534 0.36964317 0.30249394]\n",
      " [0.89689881 0.70798488 0.0238475 ]]\n"
     ]
    }
   ],
   "source": [
    "w1=generate_wt(30,5)\n",
    "w2=generate_wt(5,3)\n",
    "print(w1 ,'\\n\\n',w2)\n"
   ]
  },
  {
   "cell_type": "code",
   "execution_count": 80,
   "metadata": {},
   "outputs": [
    {
     "name": "stdout",
     "output_type": "stream",
     "text": [
      "Ephocs 1  acc  0.4709078765079405\n",
      "Ephocs 2  acc  0.47912423940462645\n",
      "Ephocs 3  acc  0.48752891764367723\n",
      "Ephocs 4  acc  0.4960993419471921\n",
      "Ephocs 5  acc  0.5048117398277154\n",
      "Ephocs 6  acc  0.5136413901077865\n",
      "Ephocs 7  acc  0.52256287501333\n",
      "Ephocs 8  acc  0.5315503239451465\n",
      "Ephocs 9  acc  0.5405776444571846\n",
      "Ephocs 10  acc  0.549618737583903\n",
      "Ephocs 11  acc  0.5586476963363818\n",
      "Ephocs 12  acc  0.5676389877865924\n",
      "Ephocs 13  acc  0.5765676205309838\n",
      "Ephocs 14  acc  0.585409300322453\n",
      "Ephocs 15  acc  0.5941405771624488\n",
      "Ephocs 16  acc  0.602738987077992\n",
      "Ephocs 17  acc  0.6111831911643244\n",
      "Ephocs 18  acc  0.6194531133234613\n",
      "Ephocs 19  acc  0.627530076619176\n",
      "Ephocs 20  acc  0.6353969365065582\n",
      "Ephocs 21  acc  0.6430382076160788\n",
      "Ephocs 22  acc  0.6504401795081465\n",
      "Ephocs 23  acc  0.657591016051086\n",
      "Ephocs 24  acc  0.664480832927107\n",
      "Ephocs 25  acc  0.6711017482623549\n",
      "Ephocs 26  acc  0.677447902445043\n",
      "Ephocs 27  acc  0.6835154447028224\n",
      "Ephocs 28  acc  0.6893024857721997\n",
      "Ephocs 29  acc  0.6948090178074451\n",
      "Ephocs 30  acc  0.7000368043558414\n",
      "Ephocs 31  acc  0.704989244618849\n",
      "Ephocs 32  acc  0.7096712172247797\n",
      "Ephocs 33  acc  0.7140889093134992\n",
      "Ephocs 34  acc  0.7182496368847301\n",
      "Ephocs 35  acc  0.7221616621367664\n",
      "Ephocs 36  acc  0.7258340129973195\n",
      "Ephocs 37  acc  0.7292763093113113\n",
      "Ephocs 38  acc  0.7324985992911714\n",
      "Ephocs 39  acc  0.7355112089344202\n",
      "Ephocs 40  acc  0.7383246062374451\n",
      "Ephocs 41  acc  0.7409492812326504\n",
      "Ephocs 42  acc  0.7433956421805945\n",
      "Ephocs 43  acc  0.745673927675855\n",
      "Ephocs 44  acc  0.7477941339790477\n",
      "Ephocs 45  acc  0.7497659565620425\n",
      "Ephocs 46  acc  0.7515987446370406\n",
      "Ephocs 47  acc  0.7533014673172037\n",
      "Ephocs 48  acc  0.7548826900100055\n",
      "Ephocs 49  acc  0.7563505596575907\n",
      "Ephocs 50  acc  0.7577127974957167\n",
      "Ephocs 51  acc  0.7589766980906929\n",
      "Ephocs 52  acc  0.7601491335207756\n",
      "Ephocs 53  acc  0.7612365616855432\n",
      "Ephocs 54  acc  0.7622450378468149\n",
      "Ephocs 55  acc  0.7631802286224625\n",
      "Ephocs 56  acc  0.7640474277663695\n",
      "Ephocs 57  acc  0.7648515731714466\n",
      "Ephocs 58  acc  0.765597264626687\n",
      "Ephocs 59  acc  0.7662887819431496\n",
      "Ephocs 60  acc  0.7669301031374949\n",
      "Ephocs 61  acc  0.7675249224256202\n",
      "Ephocs 62  acc  0.7680766678337162\n",
      "Ephocs 63  acc  0.7685885182804297\n",
      "Ephocs 64  acc  0.7690634200226696\n",
      "Ephocs 65  acc  0.7695041023897666\n",
      "Ephocs 66  acc  0.7699130927570577\n",
      "Ephocs 67  acc  0.7702927307312991\n",
      "Ephocs 68  acc  0.7706451815373601\n",
      "Ephocs 69  acc  0.7709724486090557\n",
      "Ephocs 70  acc  0.7712763853973503\n",
      "Ephocs 71  acc  0.7715587064169939\n",
      "Ephocs 72  acc  0.7718209975584077\n",
      "Ephocs 73  acc  0.7720647256956809\n",
      "Ephocs 74  acc  0.7722912476242115\n",
      "Ephocs 75  acc  0.7725018183630921\n",
      "Ephocs 76  acc  0.7726975988580337\n",
      "Ephocs 77  acc  0.772879663120644\n",
      "Ephocs 78  acc  0.7730490048393591\n",
      "Ephocs 79  acc  0.7732065434964366\n",
      "Ephocs 80  acc  0.7733531300242295\n",
      "Ephocs 81  acc  0.7734895520325716\n",
      "Ephocs 82  acc  0.7736165386375907\n",
      "Ephocs 83  acc  0.7737347649206606\n",
      "Ephocs 84  acc  0.7738448560445781\n",
      "Ephocs 85  acc  0.7739473910524065\n",
      "Ephocs 86  acc  0.7740429063728205\n",
      "Ephocs 87  acc  0.774131899054208\n",
      "Ephocs 88  acc  0.7742148297482719\n",
      "Ephocs 89  acc  0.7742921254624187\n",
      "Ephocs 90  acc  0.7743641820988361\n",
      "Ephocs 91  acc  0.774431366796857\n",
      "Ephocs 92  acc  0.7744940200939701\n",
      "Ephocs 93  acc  0.7745524579196801\n",
      "Ephocs 94  acc  0.7746069734353415\n",
      "Ephocs 95  acc  0.7746578387320725\n",
      "Ephocs 96  acc  0.7747053063979229\n",
      "Ephocs 97  acc  0.774749610964591\n",
      "Ephocs 98  acc  0.7747909702431768\n",
      "Ephocs 99  acc  0.7748295865577085\n",
      "Ephocs 100  acc  0.7748656478844892\n"
     ]
    }
   ],
   "source": [
    "acc,loss,w1,w2,=train(x,y,w1,w2,0.01,100)"
   ]
  },
  {
   "cell_type": "code",
   "execution_count": 81,
   "metadata": {},
   "outputs": [
    {
     "data": {
      "image/png": "[encoded data removed]",
      "text/plain": [
       "<Figure size 640x480 with 1 Axes>"
      ]
     },
     "metadata": {},
     "output_type": "display_data"
    }
   ],
   "source": [
    "# visualize accuracy\n",
    "plt.plot(acc)\n",
    "plt.xlabel('ephocs')\n",
    "plt.ylabel('acc')\n",
    "plt.show()"
   ]
  },
  {
   "cell_type": "code",
   "execution_count": 82,
   "metadata": {},
   "outputs": [
    {
     "data": {
      "image/png": "[encoded data removed]",
      "text/plain": [
       "<Figure size 640x480 with 1 Axes>"
      ]
     },
     "metadata": {},
     "output_type": "display_data"
    }
   ],
   "source": [
    "#plot loss\n",
    "plt.plot(loss)\n",
    "plt.xlabel('ephocs')\n",
    "plt.ylabel('loss')\n",
    "plt.show()"
   ]
  },
  {
   "cell_type": "code",
   "execution_count": 83,
   "metadata": {},
   "outputs": [
    {
     "name": "stdout",
     "output_type": "stream",
     "text": [
      "[[ 0.55654813  0.52033213  0.11930305  0.5134007   0.34062069]\n",
      " [ 0.85127095  0.16990724  0.44569112  0.12084332  0.93153561]\n",
      " [ 0.25177606  0.36023409  0.07947534  0.96855141  0.60776527]\n",
      " [ 0.60918711  0.38480045  0.81030772  0.01475564  0.65687416]\n",
      " [ 0.42003329  0.42195956  0.79490552  0.7056394   0.50855408]\n",
      " [ 0.66440601  0.03493818  0.16641852  0.30966654  0.46284659]\n",
      " [ 0.26350856  0.38014126  0.63496502  0.59451287  0.9703212 ]\n",
      " [ 0.49703751  0.95983978  0.77796474  0.91149266  0.8907381 ]\n",
      " [ 0.851636    0.37297959  0.59548678  0.01070745  0.32258267]\n",
      " [ 0.96614141  0.35427619  0.98503161  0.59250783  0.93481777]\n",
      " [ 0.63098481  0.77450341  0.21690582  0.57059915  0.86409736]\n",
      " [ 0.22897793  0.11223665  0.07024372  0.29940986  0.20802614]\n",
      " [ 0.68135481  0.37768553  0.38910162  0.44459429  0.9459852 ]\n",
      " [-0.00150199  0.95471348  0.52310482  0.04784369  0.90195068]\n",
      " [ 0.79350717  0.87584473  0.52990378  0.76277124  0.16594319]\n",
      " [ 0.55534288  0.83833774  0.03282338  0.11705469  0.87438019]\n",
      " [ 0.54338371  0.65398776  0.61706116  0.6345346   0.17094097]\n",
      " [ 0.47499511  0.86949702  0.01404361  0.01236604  0.68724219]\n",
      " [ 0.50035725  0.56666856  0.13466049  0.25094793  0.41675954]\n",
      " [ 0.70087201  0.69513414  0.2128136   0.44059037  0.50375068]\n",
      " [ 0.99036026  0.184386    0.38332778  0.09635007  0.23193285]\n",
      " [ 0.69486541  0.28718119  0.13575779  0.73058459  0.26733658]\n",
      " [ 0.21889881  0.4323306   0.10821093  0.72607496  0.08982674]\n",
      " [ 0.70942595  0.05288866  0.97997403  0.12190993  0.7349479 ]\n",
      " [ 0.59276388  0.95298541  0.69159482  0.19856066  0.10591572]\n",
      " [ 0.55272325  0.99505815  0.90617543  0.4281917   0.66341003]\n",
      " [ 0.29565696  0.37872552  0.85479788  0.96093439  0.94077812]\n",
      " [ 0.45788347  0.51060615  0.81725188  0.17776481  0.0242259 ]\n",
      " [ 0.50351918  0.53188887  0.26350292  0.62771694  0.69419835]\n",
      " [ 0.38376849  0.32802799  0.84852203  0.20065934  0.60909621]] \n",
      "\n",
      " [[ 0.0675367  -0.09053449 -0.42557989]\n",
      " [-0.25660279 -0.40520108  0.41901917]\n",
      " [ 0.09376883 -0.38330188  0.16343878]\n",
      " [-0.64838196 -0.04173994 -0.23615165]\n",
      " [ 0.15782529  0.29254106 -0.5155903 ]]\n"
     ]
    }
   ],
   "source": [
    "print(w1,'\\n\\n', w2)"
   ]
  },
  {
   "cell_type": "code",
   "execution_count": 84,
   "metadata": {},
   "outputs": [
    {
     "name": "stdout",
     "output_type": "stream",
     "text": [
      " Image is of letter A \n"
     ]
    },
    {
     "data": {
      "image/png": "[encoded data removed]",
      "text/plain": [
       "<Figure size 640x480 with 1 Axes>"
      ]
     },
     "metadata": {},
     "output_type": "display_data"
    }
   ],
   "source": [
    "predict(x[2],w1,w2)"
   ]
  },
  {
   "cell_type": "code",
   "execution_count": 85,
   "metadata": {},
   "outputs": [
    {
     "name": "stdout",
     "output_type": "stream",
     "text": [
      " Image is of letter A \n"
     ]
    },
    {
     "data": {
      "image/png": "[encoded data removed]",
      "text/plain": [
       "<Figure size 640x480 with 1 Axes>"
      ]
     },
     "metadata": {},
     "output_type": "display_data"
    }
   ],
   "source": [
    "predict(x[0],w1,w2)\n"
   ]
  },
  {
   "cell_type": "code",
   "execution_count": null,
   "metadata": {},
   "outputs": [],
   "source": []
  }
 ],
 "metadata": {
  "kernelspec": {
   "display_name": "Python 3",
   "language": "python",
   "name": "python3"
  },
  "language_info": {
   "codemirror_mode": {
    "name": "ipython",
    "version": 3
   },
   "file_extension": ".py",
   "mimetype": "text/x-python",
   "name": "python",
   "nbconvert_exporter": "python",
   "pygments_lexer": "ipython3",
   "version": "3.12.0"
  }
 },
 "nbformat": 4,
 "nbformat_minor": 2
}
